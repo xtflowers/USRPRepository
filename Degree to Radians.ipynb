{
 "cells": [
  {
   "cell_type": "code",
   "execution_count": 21,
   "metadata": {
    "collapsed": false
   },
   "outputs": [
    {
     "name": "stdout",
     "output_type": "stream",
     "text": [
      "0 0.0\n",
      "10 0.17444444444444446\n",
      "20 0.3488888888888889\n",
      "30 0.5233333333333333\n",
      "40 0.6977777777777778\n",
      "50 0.8722222222222222\n",
      "60 1.0466666666666666\n",
      "70 1.2211111111111113\n",
      "80 1.3955555555555557\n",
      "90 1.57\n",
      "100 1.7444444444444445\n",
      "110 1.918888888888889\n",
      "120 2.0933333333333333\n",
      "130 2.267777777777778\n",
      "140 2.4422222222222225\n",
      "150 2.6166666666666667\n",
      "160 2.7911111111111113\n",
      "170 2.965555555555556\n",
      "180 3.14\n"
     ]
    }
   ],
   "source": [
    "pi = 3.14\n",
    "degree = -10\n",
    "radians = degree\n",
    "degreemax = 180\n",
    "\n",
    "while (degree < degreemax):\n",
    "    degree = degree + 10\n",
    "    radians = degree * pi/180\n",
    "    print (degree, radians)\n",
    "    \n",
    "\n"
   ]
  }
 ],
 "metadata": {
  "kernelspec": {
   "display_name": "Python 3",
   "language": "python",
   "name": "python3"
  },
  "language_info": {
   "codemirror_mode": {
    "name": "ipython",
    "version": 3
   },
   "file_extension": ".py",
   "mimetype": "text/x-python",
   "name": "python",
   "nbconvert_exporter": "python",
   "pygments_lexer": "ipython3",
   "version": "3.5.1"
  }
 },
 "nbformat": 4,
 "nbformat_minor": 0
}
