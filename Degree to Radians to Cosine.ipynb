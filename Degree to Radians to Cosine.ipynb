{
 "cells": [
  {
   "cell_type": "code",
   "execution_count": 63,
   "metadata": {
    "collapsed": false
   },
   "outputs": [
    {
     "name": "stdout",
     "output_type": "stream",
     "text": [
      "Degree   Radians    Cosine\n",
      "---------------------------\n",
      "  0      0.000000     1.0\n",
      " 10      0.174444     0.9848231136790973\n",
      " 20      0.348889     0.9397531304731841\n",
      " 30      0.523333     0.866158094405463\n",
      " 40      0.697778     0.7662718924682989\n",
      " 50      0.872222     0.6431264477253459\n",
      " 60      1.046667     0.5004596890082058\n",
      " 70      1.221111     0.34260209067452174\n",
      " 80      1.395556     0.17434522637389618\n",
      " 90      1.570000     0.0007963267107332633\n",
      "100      1.744444     -0.17277674447235586\n",
      "110      1.918889     -0.34110538963593995\n",
      "120      2.093333     -0.4990801993556198\n",
      "130      2.267778     -0.6419060421740326\n",
      "140      2.442222     -0.7652476149308935\n",
      "150      2.616667     -0.8653610355694579\n",
      "160      2.791111     -0.9392074840812698\n",
      "170      2.965556     -0.9845454421577965\n",
      "180      3.140000     -0.9999987317275395\n"
     ]
    }
   ],
   "source": [
    "import math\n",
    "\n",
    "pi = 3.14\n",
    "degree = -10\n",
    "radians = degree\n",
    "degreemax = 180 \n",
    "\n",
    "print (\"Degree   Radians    Cosine\")\n",
    "print (\"---------------------------\")\n",
    "\n",
    "while (degree < degreemax):\n",
    "    degree = degree + 10\n",
    "    radians = degree * pi/180\n",
    "    degreeS = str(degree)\n",
    "    cosine = math.cos(radians)\n",
    "        \n",
    "    if len(degreeS) == 1:\n",
    "        degreeS = \"  \" + degreeS\n",
    "    elif len(degreeS) == 2:\n",
    "        degreeS = \" \" + degreeS\n",
    "        \n",
    "    print (degreeS, \"    \",'{:7f}'.format(radians), \"   \", cosine)\n",
    "    \n",
    "\n"
   ]
  },
  {
   "cell_type": "code",
   "execution_count": null,
   "metadata": {
    "collapsed": true
   },
   "outputs": [],
   "source": []
  },
  {
   "cell_type": "code",
   "execution_count": null,
   "metadata": {
    "collapsed": true
   },
   "outputs": [],
   "source": []
  }
 ],
 "metadata": {
  "kernelspec": {
   "display_name": "Python 3",
   "language": "python",
   "name": "python3"
  },
  "language_info": {
   "codemirror_mode": {
    "name": "ipython",
    "version": 3
   },
   "file_extension": ".py",
   "mimetype": "text/x-python",
   "name": "python",
   "nbconvert_exporter": "python",
   "pygments_lexer": "ipython3",
   "version": "3.5.1"
  }
 },
 "nbformat": 4,
 "nbformat_minor": 0
}
